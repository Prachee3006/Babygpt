{
  "nbformat": 4,
  "nbformat_minor": 0,
  "metadata": {
    "colab": {
      "provenance": [],
      "include_colab_link": true
    },
    "kernelspec": {
      "name": "python3",
      "display_name": "Python 3"
    },
    "language_info": {
      "name": "python"
    }
  },
  "cells": [
    {
      "cell_type": "markdown",
      "metadata": {
        "id": "view-in-github",
        "colab_type": "text"
      },
      "source": [
        "<a href=\"https://colab.research.google.com/github/Prachee3006/Babygpt/blob/main/babygpt.ipynb\" target=\"_parent\"><img src=\"https://colab.research.google.com/assets/colab-badge.svg\" alt=\"Open In Colab\"/></a>"
      ]
    },
    {
      "cell_type": "markdown",
      "source": [
        "# Libraries"
      ],
      "metadata": {
        "id": "VEFgBfEK6fwB"
      }
    },
    {
      "cell_type": "code",
      "source": [
        "import torch\n",
        "import torch.nn as nn\n",
        "from torch.nn import functional as F"
      ],
      "metadata": {
        "id": "dZ7kGCce6exq"
      },
      "execution_count": null,
      "outputs": []
    },
    {
      "cell_type": "markdown",
      "source": [
        "# Data Preprocessing"
      ],
      "metadata": {
        "id": "QvbYaWvY6m88"
      }
    },
    {
      "cell_type": "code",
      "source": [
        "with open('coi.txt', 'r', encoding='utf-8') as f:\n",
        "    text = f.read()\n",
        "\n",
        "# here are all the unique characters that occur in this text\n",
        "chars = sorted(list(set(text)))\n",
        "vocab_size = len(chars)\n",
        "# create a mapping from characters to integers\n",
        "stoi = { ch:i for i,ch in enumerate(chars) }\n",
        "itos = { i:ch for i,ch in enumerate(chars) }\n",
        "encode = lambda s: [stoi[c] for c in s] # encoder: take a string, output a list of integers\n",
        "decode = lambda l: ''.join([itos[i] for i in l]) # decoder: take a list of integers, output a string"
      ],
      "metadata": {
        "id": "t1y-38i46mei"
      },
      "execution_count": null,
      "outputs": []
    },
    {
      "cell_type": "code",
      "source": [
        "x = encode('CONSTITUTION')\n",
        "print(x)\n",
        "x = torch.tensor(x)\n",
        "print(x)\n",
        "x = x.unsqueeze(dim = 0)\n",
        "print(x.shape)"
      ],
      "metadata": {
        "colab": {
          "base_uri": "https://localhost:8080/"
        },
        "id": "DABxPg3JrloD",
        "outputId": "499c90ad-ce9b-4ef9-efea-6e0608b7df11"
      },
      "execution_count": null,
      "outputs": [
        {
          "output_type": "stream",
          "name": "stdout",
          "text": [
            "[27, 39, 38, 43, 44, 33, 44, 45, 44, 33, 39, 38]\n",
            "tensor([27, 39, 38, 43, 44, 33, 44, 45, 44, 33, 39, 38])\n",
            "torch.Size([1, 12])\n"
          ]
        }
      ]
    },
    {
      "cell_type": "markdown",
      "source": [
        "# Training I (Design)"
      ],
      "metadata": {
        "id": "QsAQxtAU7HEp"
      }
    },
    {
      "cell_type": "code",
      "source": [
        "# hyperparameters\n",
        "batch_size = 16 # how many independent sequences will we process in parallel?\n",
        "block_size = 32 # what is the maximum context length for predictions?\n",
        "\n",
        "torch.manual_seed(1337)\n",
        "\n",
        "# Train and test splits\n",
        "data = torch.tensor(encode(text), dtype=torch.long)\n",
        "n = int(0.9*len(data)) # first 90% will be train, rest val\n",
        "train_data = data[:n]\n",
        "val_data = data[n:]\n",
        "\n",
        "# data loading\n",
        "def get_batch(split):\n",
        "    # generate a small batch of data of inputs x and targets y\n",
        "    data = train_data if split == 'train' else val_data\n",
        "    ix = torch.randint(len(data) - block_size, (batch_size,))\n",
        "    x = torch.stack([data[i:i+block_size] for i in ix])\n",
        "    y = torch.stack([data[i+1:i+block_size+1] for i in ix])\n",
        "    x, y = x.to(device), y.to(device)\n",
        "    return x, y\n",
        "\n",
        "@torch.no_grad()\n",
        "def estimate_loss():\n",
        "    out = {}\n",
        "    model.eval()\n",
        "    for split in ['train', 'val']:\n",
        "        losses = torch.zeros(eval_iters)\n",
        "        for k in range(eval_iters):\n",
        "            X, Y = get_batch(split)\n",
        "            logits, loss = model(X, Y)\n",
        "            losses[k] = loss.item()\n",
        "        out[split] = losses.mean()\n",
        "    model.train()\n",
        "    return out"
      ],
      "metadata": {
        "id": "7DaKVjuR7O0Y"
      },
      "execution_count": null,
      "outputs": []
    },
    {
      "cell_type": "markdown",
      "source": [
        "# Model Definition"
      ],
      "metadata": {
        "id": "Es3AjhYP8tLG"
      }
    },
    {
      "cell_type": "code",
      "execution_count": null,
      "metadata": {
        "id": "rCOFSVL86aGy"
      },
      "outputs": [],
      "source": [
        "# hyperparameters\n",
        "n_embd = 64\n",
        "n_head = 4\n",
        "n_layer = 4\n",
        "dropout = 0.0\n",
        "# ------------\n",
        "\n",
        "class Head(nn.Module):\n",
        "    \"\"\" one head of self-attention \"\"\"\n",
        "\n",
        "    def __init__(self, head_size):\n",
        "        super().__init__()\n",
        "        self.key = nn.Linear(n_embd, head_size, bias=False)\n",
        "        self.query = nn.Linear(n_embd, head_size, bias=False)\n",
        "        self.value = nn.Linear(n_embd, head_size, bias=False)\n",
        "        self.register_buffer('tril', torch.tril(torch.ones(block_size, block_size)))\n",
        "\n",
        "        self.dropout = nn.Dropout(dropout)\n",
        "\n",
        "    def forward(self, x):\n",
        "        B,T,C = x.shape\n",
        "        k = self.key(x)   # (B,T,C)\n",
        "        q = self.query(x) # (B,T,C)\n",
        "        # compute attention scores (\"affinities\")\n",
        "        wei = q @ k.transpose(-2,-1) * C**-0.5 # (B, T, C) @ (B, C, T) -> (B, T, T)\n",
        "        wei = wei.masked_fill(self.tril[:T, :T] == 0, float('-inf')) # (B, T, T)\n",
        "        wei = F.softmax(wei, dim=-1) # (B, T, T)\n",
        "        wei = self.dropout(wei)\n",
        "        # perform the weighted aggregation of the values\n",
        "        v = self.value(x) # (B,T,C)\n",
        "        out = wei @ v # (B, T, T) @ (B, T, C) -> (B, T, C)\n",
        "        return out\n",
        "\n",
        "class MultiHeadAttention(nn.Module):\n",
        "    \"\"\" multiple heads of self-attention in parallel \"\"\"\n",
        "\n",
        "    def __init__(self, num_heads, head_size):\n",
        "        super().__init__()\n",
        "        self.heads = nn.ModuleList([Head(head_size) for _ in range(num_heads)])\n",
        "        self.proj = nn.Linear(n_embd, n_embd)\n",
        "        self.dropout = nn.Dropout(dropout)\n",
        "\n",
        "    def forward(self, x):\n",
        "        out = torch.cat([h(x) for h in self.heads], dim=-1)\n",
        "        out = self.dropout(self.proj(out))\n",
        "        return out\n",
        "\n",
        "class FeedFoward(nn.Module):\n",
        "    \"\"\" a simple linear layer followed by a non-linearity \"\"\"\n",
        "\n",
        "    def __init__(self, n_embd):\n",
        "        super().__init__()\n",
        "        self.net = nn.Sequential(\n",
        "            nn.Linear(n_embd, 4 * n_embd),\n",
        "            nn.ReLU(),\n",
        "            nn.Linear(4 * n_embd, n_embd),\n",
        "            nn.Dropout(dropout),\n",
        "        )\n",
        "\n",
        "    def forward(self, x):\n",
        "        return self.net(x)\n",
        "\n",
        "class Block(nn.Module):\n",
        "    \"\"\" Transformer block: communication followed by computation \"\"\"\n",
        "\n",
        "    def __init__(self, n_embd, n_head):\n",
        "        # n_embd: embedding dimension, n_head: the number of heads we'd like\n",
        "        super().__init__()\n",
        "        head_size = n_embd // n_head\n",
        "        self.sa = MultiHeadAttention(n_head, head_size)\n",
        "        self.ffwd = FeedFoward(n_embd)\n",
        "        self.ln1 = nn.LayerNorm(n_embd)\n",
        "        self.ln2 = nn.LayerNorm(n_embd)\n",
        "\n",
        "    def forward(self, x):\n",
        "        x = x + self.sa(self.ln1(x))\n",
        "        x = x + self.ffwd(self.ln2(x))\n",
        "        return x\n",
        "\n",
        "# hyperparameters\n",
        "n_embd = 64\n",
        "n_head = 4\n",
        "n_layer = 4\n",
        "dropout = 0.0\n",
        "# ------------\n",
        "\n",
        "# super simple bigram model\n",
        "class BabyGPT(nn.Module):\n",
        "\n",
        "    def __init__(self):\n",
        "        super().__init__()\n",
        "        # each token directly reads off the logits for the next token from a lookup table\n",
        "        self.token_embedding_table = nn.Embedding(vocab_size, n_embd)\n",
        "        self.position_embedding_table = nn.Embedding(block_size, n_embd)\n",
        "        self.blocks = nn.Sequential(*[Block(n_embd, n_head=n_head) for _ in range(n_layer)])\n",
        "        self.ln_f = nn.LayerNorm(n_embd) # final layer norm\n",
        "        self.lm_head = nn.Linear(n_embd, vocab_size)\n",
        "\n",
        "    def forward(self, idx, targets=None):\n",
        "        B, T = idx.shape\n",
        "\n",
        "        # idx and targets are both (B,T) tensor of integers\n",
        "        tok_emb = self.token_embedding_table(idx) # (B,T,C)\n",
        "        pos_emb = self.position_embedding_table(torch.arange(T, device=device)) # (T,C)\n",
        "        x = tok_emb + pos_emb # (B,T,C)\n",
        "        x = self.blocks(x) # (B,T,C)\n",
        "        x = self.ln_f(x) # (B,T,C)\n",
        "        logits = self.lm_head(x) # (B,T,vocab_size)\n",
        "\n",
        "        if targets is None:\n",
        "            loss = None\n",
        "        else:\n",
        "            B, T, C = logits.shape\n",
        "            logits = logits.view(B*T, C)\n",
        "            targets = targets.view(B*T)\n",
        "            loss = F.cross_entropy(logits, targets)\n",
        "\n",
        "        return logits, loss\n",
        "\n",
        "    # Model Inference Definition\n",
        "    def generate(self, idx, max_new_tokens):\n",
        "        # idx is (B, T) array of indices in the current context\n",
        "        for _ in range(max_new_tokens):\n",
        "            # crop idx to the last block_size tokens\n",
        "            idx_cond = idx[:, -block_size:]\n",
        "            # get the predictions\n",
        "            logits, loss = self(idx_cond)\n",
        "            # focus only on the last time step\n",
        "            logits = logits[:, -1, :] # becomes (B, C)\n",
        "            # apply softmax to get probabilities\n",
        "            probs = F.softmax(logits, dim=-1) # (B, C)\n",
        "            # sample from the distribution\n",
        "            idx_next = torch.multinomial(probs, num_samples=1) # (B, 1)\n",
        "            # append sampled index to the running sequence\n",
        "            idx = torch.cat((idx, idx_next), dim=1) # (B, T+1)\n",
        "        return idx"
      ]
    },
    {
      "cell_type": "markdown",
      "source": [
        "# Training II (Optimization)"
      ],
      "metadata": {
        "id": "7siIcco88w9g"
      }
    },
    {
      "cell_type": "code",
      "source": [
        "# hyperparameters\n",
        "max_iters = 5000\n",
        "eval_interval = 100\n",
        "learning_rate = 1e-3\n",
        "device = 'cuda' if torch.cuda.is_available() else 'cpu'\n",
        "eval_iters = 200\n",
        "\n",
        "model = BabyGPT()\n",
        "m = model.to(device)\n",
        "# print the number of parameters in the model\n",
        "print(sum(p.numel() for p in m.parameters())/1e6, 'M parameters')\n",
        "\n",
        "# create a PyTorch optimizer\n",
        "optimizer = torch.optim.AdamW(model.parameters(), lr=learning_rate)\n",
        "\n",
        "for iter in range(max_iters):\n",
        "\n",
        "    # every once in a while evaluate the loss on train and val sets\n",
        "    if iter % eval_interval == 0 or iter == max_iters - 1:\n",
        "        losses = estimate_loss()\n",
        "        print(f\"step {iter}: train loss {losses['train']:.4f}, val loss {losses['val']:.4f}\")\n",
        "\n",
        "    # sample a batch of data\n",
        "    xb, yb = get_batch('train')\n",
        "\n",
        "    # evaluate the loss\n",
        "    logits, loss = model(xb, yb)\n",
        "    optimizer.zero_grad(set_to_none=True)\n",
        "    loss.backward()\n",
        "    optimizer.step()"
      ],
      "metadata": {
        "colab": {
          "base_uri": "https://localhost:8080/"
        },
        "id": "SEDvXXqr7tDb",
        "outputId": "c6280095-5fbe-4a5d-f0fe-c7819555b0c6"
      },
      "execution_count": null,
      "outputs": [
        {
          "output_type": "stream",
          "name": "stdout",
          "text": [
            "0.213083 M parameters\n",
            "step 0: train loss 4.6458, val loss 4.6413\n",
            "step 100: train loss 2.5584, val loss 2.7443\n",
            "step 200: train loss 2.3262, val loss 2.5413\n",
            "step 300: train loss 2.2311, val loss 2.4465\n",
            "step 400: train loss 2.1194, val loss 2.3609\n",
            "step 500: train loss 1.9952, val loss 2.3344\n",
            "step 600: train loss 1.8774, val loss 2.2287\n",
            "step 700: train loss 1.7990, val loss 2.1906\n",
            "step 800: train loss 1.7110, val loss 2.1925\n",
            "step 900: train loss 1.6592, val loss 2.1345\n",
            "step 1000: train loss 1.5944, val loss 2.1515\n",
            "step 1100: train loss 1.5368, val loss 2.1098\n",
            "step 1200: train loss 1.4778, val loss 2.0902\n",
            "step 1300: train loss 1.4659, val loss 2.0924\n",
            "step 1400: train loss 1.4377, val loss 2.0558\n",
            "step 1500: train loss 1.4255, val loss 2.0630\n",
            "step 1600: train loss 1.3835, val loss 2.0473\n",
            "step 1700: train loss 1.3646, val loss 1.9665\n",
            "step 1800: train loss 1.3219, val loss 2.0186\n",
            "step 1900: train loss 1.3213, val loss 1.9750\n",
            "step 2000: train loss 1.2907, val loss 2.0014\n",
            "step 2100: train loss 1.2943, val loss 2.0190\n",
            "step 2200: train loss 1.2687, val loss 1.9983\n",
            "step 2300: train loss 1.2604, val loss 2.0027\n",
            "step 2400: train loss 1.2408, val loss 1.9770\n",
            "step 2500: train loss 1.2391, val loss 1.9383\n",
            "step 2600: train loss 1.2058, val loss 1.9695\n",
            "step 2700: train loss 1.2030, val loss 1.9530\n",
            "step 2800: train loss 1.1967, val loss 1.9497\n",
            "step 2900: train loss 1.2000, val loss 1.9387\n",
            "step 3000: train loss 1.1744, val loss 1.9309\n",
            "step 3100: train loss 1.1647, val loss 1.9258\n",
            "step 3200: train loss 1.1553, val loss 1.9242\n",
            "step 3300: train loss 1.1612, val loss 1.9530\n",
            "step 3400: train loss 1.1744, val loss 1.9308\n",
            "step 3500: train loss 1.1602, val loss 1.9547\n",
            "step 3600: train loss 1.1484, val loss 1.9101\n",
            "step 3700: train loss 1.1401, val loss 1.9391\n",
            "step 3800: train loss 1.1240, val loss 1.9081\n",
            "step 3900: train loss 1.1351, val loss 1.9531\n",
            "step 4000: train loss 1.1070, val loss 1.9030\n",
            "step 4100: train loss 1.1079, val loss 1.9313\n",
            "step 4200: train loss 1.1085, val loss 1.9243\n",
            "step 4300: train loss 1.1086, val loss 1.9338\n",
            "step 4400: train loss 1.1107, val loss 1.9314\n",
            "step 4500: train loss 1.0938, val loss 1.9232\n",
            "step 4600: train loss 1.0816, val loss 1.9513\n",
            "step 4700: train loss 1.0903, val loss 1.9367\n",
            "step 4800: train loss 1.0940, val loss 1.9261\n",
            "step 4900: train loss 1.0785, val loss 1.8961\n",
            "step 4999: train loss 1.0783, val loss 1.9176\n"
          ]
        }
      ]
    },
    {
      "cell_type": "markdown",
      "source": [
        "# Inference"
      ],
      "metadata": {
        "id": "THJUKSqf9HS0"
      }
    },
    {
      "cell_type": "code",
      "source": [
        "# generate from the model\n",
        "# context = torch.zeros((1, 3), dtype=torch.long, device=device)\n",
        "# print(context)\n",
        "print(decode(m.generate(x, max_new_tokens=2000)[0].tolist()))"
      ],
      "metadata": {
        "colab": {
          "base_uri": "https://localhost:8080/"
        },
        "id": "ex2W7y9t8B4Z",
        "outputId": "4bb87648-5610-48b7-c863-faa350d4a844"
      },
      "execution_count": null,
      "outputs": [
        {
          "output_type": "stream",
          "name": "stdout",
          "text": [
            "CONSTITUTION NDISPUFTUNPMECH19.–\n",
            "2 Subject to the dutie in the\n",
            "High Court and Hundijer House of the Commission) dissor\n",
            "             matters\n",
            "       immediately before the provisions of this Constitutions; Commissions;\n",
            "       (xiviiiiod).\n",
            "        (4) Whilu for the party, the applicining the\n",
            "than that assund disconsidition.\n",
            "\n",
            "\n",
            "1. Constitution,\n",
            "   resolution,\n",
            "directive\n",
            "                        The North- Schedule\"\n",
            "       (b) the Pub-paragraph 1900\n",
            "\f        LAmukkct in forances of 1[the Commission Constitution Amendment of a States recommended\n",
            "      made by kre there office unless such\n",
            "paid\n",
            "     part of any order has\n",
            "applocationly votinge:\n",
            " 5. Sup—Act, and the Chill apply of the Kachaya Grava*             (I) the mattate\n",
            "   Municipate of India discharge\n",
            "furt State shall to be kth-enduck and paragraph\n",
            "Areas \"0184.—The Court whole for the officer 15**]\n",
            "\n",
            "\n",
            "1. India cluding has,\n",
            "namely to land takirs in substitution\n",
            "    and Schedule\" and under shall a His Terit and Legislative Assembly and post subom distries as he levieiation more in ourt who a Provincedukh    the State Union to and the Constitution, if servate of the Constitution of List Amendment) Act, 1976, s. 18, for the Government may, order of the authority said aider that infy that Provide including the totan duloumments delares to to a delisarities there minters an, cnums.\n",
            "     594.\n",
            "      Odvation Tr inst under that I powers and\n",
            "         2506. Subs. by the\n",
            "President Assembly\n",
            "        rules in\n",
            "of sealf a resorly other a muting of the members of a purpose 3 of of sum sections and Condingerentaking lands for a House of Parliament or any provisions;\n",
            "respectived to the Provijenal\n",
            "he Constitution a Pradesh Constitution (There State shall for such rumper as the\n",
            "        publies application, records on the follument woully by sholl omer the Governor or compe of sered and destriction to be\n",
            "the\n",
            "State of State State Officating and\n",
            "\n",
            "\n",
            "13. Ins. by the Constitution of the People, and Scheduled Andhrea mation by any law.\n",
            "        (3) The Supreme Cou\n"
          ]
        }
      ]
    },
    {
      "cell_type": "code",
      "source": [],
      "metadata": {
        "id": "4HeX8LOfsYbm"
      },
      "execution_count": null,
      "outputs": []
    }
  ]
}